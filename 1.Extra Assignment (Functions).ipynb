{
 "cells": [
  {
   "cell_type": "code",
   "execution_count": 2,
   "id": "d4badc2c",
   "metadata": {},
   "outputs": [
    {
     "name": "stdout",
     "output_type": "stream",
     "text": [
      "Sub-field in AI are :\n",
      "Machine Learning\n",
      "Neural Network\n",
      "Vision\n",
      "Robotics\n",
      "Speech Processing\n",
      "Natural Language Processing\n"
     ]
    }
   ],
   "source": [
    "name=input(\"Sub-field in AI are :\")\n",
    "lists=[\"Machine Learning\",\"Neural Network\",\"Vision\",\"Robotics\",\"Speech Processing\",\"Natural Language Processing\"]\n",
    "for temp in lists:\n",
    "       print(temp)"
   ]
  },
  {
   "cell_type": "code",
   "execution_count": 3,
   "id": "12916cad",
   "metadata": {},
   "outputs": [],
   "source": [
    "def OddEven():\n",
    "    num=int(input(\"enter the number :\")) \n",
    "    if((num%2)==0):\n",
    "        print(num,\"is even\")\n",
    "        message=\"is even\"\n",
    "    else:\n",
    "        print(num,\"is odd\")\n",
    "        message=\"is odd\"\n",
    "        return message"
   ]
  },
  {
   "cell_type": "code",
   "execution_count": 4,
   "id": "498d14e7",
   "metadata": {},
   "outputs": [
    {
     "name": "stdout",
     "output_type": "stream",
     "text": [
      "enter the number :52452\n",
      "52452 is even\n"
     ]
    }
   ],
   "source": [
    "OddEven()"
   ]
  },
  {
   "cell_type": "code",
   "execution_count": 8,
   "id": "1ee636df",
   "metadata": {},
   "outputs": [],
   "source": [
    "def Elegible():\n",
    "    sex=input(\"Your Gender :\")\n",
    "    age=int(input(\"Your Age :\"))\n",
    "    if(age<21):\n",
    "        print(\"NOT ELIGIBLE\")\n",
    "    message=\"NOT ELIGIBLE\"\n",
    "    return message"
   ]
  },
  {
   "cell_type": "code",
   "execution_count": 9,
   "id": "d8301233",
   "metadata": {},
   "outputs": [
    {
     "name": "stdout",
     "output_type": "stream",
     "text": [
      "Your Gender :Male\n",
      "Your Age :20\n",
      "NOT ELIGIBLE\n"
     ]
    },
    {
     "data": {
      "text/plain": [
       "'NOT ELIGIBLE'"
      ]
     },
     "execution_count": 9,
     "metadata": {},
     "output_type": "execute_result"
    }
   ],
   "source": [
    "Elegible()"
   ]
  },
  {
   "cell_type": "code",
   "execution_count": 10,
   "id": "d5fa668c",
   "metadata": {},
   "outputs": [],
   "source": [
    "def Percentage():\n",
    "    sub1=int(input(\"Subject1 =\"))\n",
    "    sub2=int(input(\"Subject2 =\"))\n",
    "    sub3=int(input(\"Subject3 =\"))\n",
    "    sub4=int(input(\"Subject4 =\"))\n",
    "    sub5=int(input(\"Subject5 =\"))\n",
    "    total=(sub1+sub2+sub3+sub4+sub5)\n",
    "    print(\"total:\",total)\n",
    "    per=total/500*100\n",
    "    print(\"percentage : \",per)"
   ]
  },
  {
   "cell_type": "code",
   "execution_count": 11,
   "id": "df88e4e0",
   "metadata": {},
   "outputs": [
    {
     "name": "stdout",
     "output_type": "stream",
     "text": [
      "Subject1 =98\n",
      "Subject2 =87\n",
      "Subject3 =95\n",
      "Subject4 =95\n",
      "Subject5 =93\n",
      "total: 468\n",
      "percentage :  93.60000000000001\n"
     ]
    }
   ],
   "source": [
    "Percentage()"
   ]
  },
  {
   "cell_type": "code",
   "execution_count": 12,
   "id": "823bf36d",
   "metadata": {},
   "outputs": [],
   "source": [
    "def triangle():\n",
    "    height=int(input(\"Height :\"))\n",
    "    breadth=int(input(\"Breadth :\"))\n",
    "    area=(height*breadth)/2\n",
    "    print(\"Area of Triangle:\",area)\n",
    "    height1=int(input(\"Height1 :\"))\n",
    "    height2=int(input(\"Height2 :\"))\n",
    "    breadth1=int(input(\"Breadth1 :\"))\n",
    "    perimeter=height1+height2+ breadth1\n",
    "    print(\"Perimeter of Triangle: \",perimeter)"
   ]
  },
  {
   "cell_type": "code",
   "execution_count": 13,
   "id": "f5ee0edd",
   "metadata": {},
   "outputs": [
    {
     "name": "stdout",
     "output_type": "stream",
     "text": [
      "Height :32\n",
      "Breadth :34\n",
      "Area of Triangle: 544.0\n",
      "Height1 :2\n",
      "Height2 :4\n",
      "Breadth1 :4\n",
      "Perimeter of Triangle:  10\n"
     ]
    }
   ],
   "source": [
    "triangle()"
   ]
  },
  {
   "cell_type": "code",
   "execution_count": null,
   "id": "53833051",
   "metadata": {},
   "outputs": [],
   "source": []
  }
 ],
 "metadata": {
  "kernelspec": {
   "display_name": "Python 3 (ipykernel)",
   "language": "python",
   "name": "python3"
  },
  "language_info": {
   "codemirror_mode": {
    "name": "ipython",
    "version": 3
   },
   "file_extension": ".py",
   "mimetype": "text/x-python",
   "name": "python",
   "nbconvert_exporter": "python",
   "pygments_lexer": "ipython3",
   "version": "3.11.5"
  }
 },
 "nbformat": 4,
 "nbformat_minor": 5
}
