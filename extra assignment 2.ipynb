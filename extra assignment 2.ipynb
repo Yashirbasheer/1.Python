{
 "cells": [
  {
   "cell_type": "code",
   "execution_count": 1,
   "id": "df8795b4",
   "metadata": {},
   "outputs": [
    {
     "name": "stdout",
     "output_type": "stream",
     "text": [
      "0\n",
      "1\n",
      "2\n",
      "3\n",
      "4\n",
      "5\n",
      "6\n",
      "7\n",
      "8\n",
      "9\n",
      "10\n",
      "11\n",
      "12\n",
      "13\n",
      "14\n",
      "15\n",
      "16\n",
      "17\n",
      "18\n",
      "19\n"
     ]
    }
   ],
   "source": [
    "for num in range(0,20):\n",
    "    print(num)"
   ]
  },
  {
   "cell_type": "code",
   "execution_count": 2,
   "id": "40796c59",
   "metadata": {},
   "outputs": [
    {
     "name": "stdout",
     "output_type": "stream",
     "text": [
      "[10, 11, 12, 13, 14, 15, 16, 17, 18, 19, 20]\n"
     ]
    }
   ],
   "source": [
    "list=[*range(10,21,1)]\n",
    "print(list)"
   ]
  },
  {
   "cell_type": "code",
   "execution_count": 3,
   "id": "a14dac40",
   "metadata": {},
   "outputs": [
    {
     "name": "stdout",
     "output_type": "stream",
     "text": [
      "Number of items in the list:  7\n"
     ]
    }
   ],
   "source": [
    "lists=[1,20,14,55,43,87,76]\n",
    "print(\"Number of items in the list: \",len(lists))"
   ]
  },
  {
   "cell_type": "code",
   "execution_count": 11,
   "id": "e6e6aff9",
   "metadata": {},
   "outputs": [
    {
     "name": "stdout",
     "output_type": "stream",
     "text": [
      "Artificial Intelligence\n",
      "A\n",
      "r\n",
      "t\n",
      "i\n",
      "f\n",
      "i\n",
      "c\n",
      "i\n",
      "a\n",
      "l\n",
      " \n",
      "I\n",
      "n\n",
      "t\n",
      "e\n",
      "l\n",
      "l\n",
      "i\n",
      "g\n",
      "e\n",
      "n\n",
      "c\n",
      "e\n"
     ]
    }
   ],
   "source": [
    "print(\"Artificial Intelligence\")\n",
    "name=\"Artificial Intelligence\"\n",
    "for x in name:\n",
    "        print(x)"
   ]
  },
  {
   "cell_type": "code",
   "execution_count": 4,
   "id": "93f60f0e",
   "metadata": {},
   "outputs": [
    {
     "name": "stdout",
     "output_type": "stream",
     "text": [
      "-your  Name- \n",
      "-your  age-\n",
      "-Your  profession-\n"
     ]
    }
   ],
   "source": [
    "print(\"-your  Name- \")\n",
    "print(\"-your  age-\")\n",
    "print(\"-Your  profession-\" )"
   ]
  },
  {
   "cell_type": "code",
   "execution_count": 5,
   "id": "1a3db725",
   "metadata": {},
   "outputs": [
    {
     "name": "stdout",
     "output_type": "stream",
     "text": [
      "(1, 'welcome', 2, 'Hope')\n"
     ]
    }
   ],
   "source": [
    "Tuple1=(1,'welcome',2,'Hope')\n",
    "print(Tuple1)"
   ]
  },
  {
   "cell_type": "code",
   "execution_count": 12,
   "id": "fbc4ec2f",
   "metadata": {},
   "outputs": [
    {
     "name": "stdout",
     "output_type": "stream",
     "text": [
      "((0, 1, 2, 3), ('python', 'Hope'))\n"
     ]
    }
   ],
   "source": [
    "Tuple2=(0,1,2,3)\n",
    "Tuple3=('python','Hope')\n",
    "print((Tuple2,Tuple3))"
   ]
  },
  {
   "cell_type": "code",
   "execution_count": 6,
   "id": "cdc7025d",
   "metadata": {},
   "outputs": [],
   "source": [
    "lists=[20,10,16,19,25,1,276,188]"
   ]
  },
  {
   "cell_type": "code",
   "execution_count": 7,
   "id": "1d0b4c8f",
   "metadata": {},
   "outputs": [
    {
     "name": "stdout",
     "output_type": "stream",
     "text": [
      "20\n",
      "10\n",
      "16\n",
      "19\n",
      "25\n",
      "1\n",
      "276\n",
      "188\n"
     ]
    }
   ],
   "source": [
    "for temp in lists:\n",
    "    print(temp)\n"
   ]
  },
  {
   "cell_type": "code",
   "execution_count": 8,
   "id": "2a875068",
   "metadata": {},
   "outputs": [
    {
     "name": "stdout",
     "output_type": "stream",
     "text": [
      "is even\n",
      "is even\n",
      "is even\n",
      "is odd\n",
      "is odd\n",
      "is odd\n",
      "is even\n",
      "is even\n"
     ]
    }
   ],
   "source": [
    "for num in lists:    \n",
    "    if((num%2)==0):\n",
    "        print(\"is even\")\n",
    "    else:\n",
    "        print(\"is odd\")"
   ]
  },
  {
   "cell_type": "code",
   "execution_count": null,
   "id": "20b954f1",
   "metadata": {},
   "outputs": [],
   "source": []
  },
  {
   "cell_type": "code",
   "execution_count": null,
   "id": "3547afc6",
   "metadata": {},
   "outputs": [],
   "source": []
  }
 ],
 "metadata": {
  "kernelspec": {
   "display_name": "Python 3 (ipykernel)",
   "language": "python",
   "name": "python3"
  },
  "language_info": {
   "codemirror_mode": {
    "name": "ipython",
    "version": 3
   },
   "file_extension": ".py",
   "mimetype": "text/x-python",
   "name": "python",
   "nbconvert_exporter": "python",
   "pygments_lexer": "ipython3",
   "version": "3.11.5"
  }
 },
 "nbformat": 4,
 "nbformat_minor": 5
}
