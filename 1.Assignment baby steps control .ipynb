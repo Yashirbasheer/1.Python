{
 "cells": [
  {
   "cell_type": "code",
   "execution_count": 2,
   "id": "13da5daa",
   "metadata": {},
   "outputs": [
    {
     "name": "stdout",
     "output_type": "stream",
     "text": [
      "Welcome to Assignment-1\n"
     ]
    }
   ],
   "source": [
    "print(\"Welcome to Assignment-1\")"
   ]
  },
  {
   "cell_type": "code",
   "execution_count": 1,
   "id": "0bb444fe",
   "metadata": {},
   "outputs": [
    {
     "name": "stdout",
     "output_type": "stream",
     "text": [
      "num1=10\n"
     ]
    }
   ],
   "source": [
    "num1=int(input(\"num1=\"))"
   ]
  },
  {
   "cell_type": "code",
   "execution_count": 3,
   "id": "9544e40a",
   "metadata": {},
   "outputs": [
    {
     "name": "stdout",
     "output_type": "stream",
     "text": [
      "num2=30\n"
     ]
    }
   ],
   "source": [
    "num2=int(input(\"num2=\"))"
   ]
  },
  {
   "cell_type": "code",
   "execution_count": 4,
   "id": "0c2483b4",
   "metadata": {},
   "outputs": [
    {
     "name": "stdout",
     "output_type": "stream",
     "text": [
      "Add= 40\n"
     ]
    }
   ],
   "source": [
    "add=num1+num2\n",
    "print(\"Add=\",add)"
   ]
  },
  {
   "cell_type": "code",
   "execution_count": 7,
   "id": "5096806e",
   "metadata": {},
   "outputs": [
    {
     "name": "stdout",
     "output_type": "stream",
     "text": [
      "Enter te BMI Intex:34\n",
      "Very Over Weight\n"
     ]
    }
   ],
   "source": [
    "weight=int(input(\"Enter te BMI Intex:\")) \n",
    "if(weight<18):\n",
    "    print(\"under weight\")\n",
    "elif(weight<25):\n",
    "    print(\"Normal Weight\")\n",
    "elif(weight<37):\n",
    "    print(\"Very Over Weight\")\n",
    "   "
   ]
  }
 ],
 "metadata": {
  "kernelspec": {
   "display_name": "Python 3 (ipykernel)",
   "language": "python",
   "name": "python3"
  },
  "language_info": {
   "codemirror_mode": {
    "name": "ipython",
    "version": 3
   },
   "file_extension": ".py",
   "mimetype": "text/x-python",
   "name": "python",
   "nbconvert_exporter": "python",
   "pygments_lexer": "ipython3",
   "version": "3.11.5"
  }
 },
 "nbformat": 4,
 "nbformat_minor": 5
}
