{
 "cells": [
  {
   "cell_type": "code",
   "execution_count": 2,
   "id": "b3058ba6",
   "metadata": {},
   "outputs": [],
   "source": [
    "from test1 import SubfieldsInAI"
   ]
  },
  {
   "cell_type": "code",
   "execution_count": 4,
   "id": "3eaba35f",
   "metadata": {},
   "outputs": [
    {
     "name": "stdout",
     "output_type": "stream",
     "text": [
      "Sub-fields in AI are :\n",
      "Machine Learning\n",
      "Neural Network\n",
      "Vision\n",
      "Robotics\n",
      "Speech Processing\n",
      "Natural Language Processing\n"
     ]
    },
    {
     "data": {
      "text/plain": [
       "'Natural Language Processing'"
      ]
     },
     "execution_count": 4,
     "metadata": {},
     "output_type": "execute_result"
    }
   ],
   "source": [
    "SubfieldsInAI.Subfields()"
   ]
  },
  {
   "cell_type": "code",
   "execution_count": 5,
   "id": "82054367",
   "metadata": {},
   "outputs": [],
   "source": [
    "from test2 import OddEven"
   ]
  },
  {
   "cell_type": "code",
   "execution_count": 6,
   "id": "8a30c6d4",
   "metadata": {},
   "outputs": [
    {
     "name": "stdout",
     "output_type": "stream",
     "text": [
      "enter the number :21\n",
      "21 is odd\n"
     ]
    },
    {
     "data": {
      "text/plain": [
       "'is odd'"
      ]
     },
     "execution_count": 6,
     "metadata": {},
     "output_type": "execute_result"
    }
   ],
   "source": [
    "OddEven.OddEven()"
   ]
  },
  {
   "cell_type": "code",
   "execution_count": 7,
   "id": "bdbd2516",
   "metadata": {},
   "outputs": [],
   "source": [
    "from test3 import ElegibilityForMarriage"
   ]
  },
  {
   "cell_type": "code",
   "execution_count": 8,
   "id": "4e9fbbd5",
   "metadata": {},
   "outputs": [
    {
     "name": "stdout",
     "output_type": "stream",
     "text": [
      "Enter your Gender :Male\n",
      "Enter Your Age :20\n",
      "Not Eligible\n"
     ]
    },
    {
     "data": {
      "text/plain": [
       "'Not Eligible'"
      ]
     },
     "execution_count": 8,
     "metadata": {},
     "output_type": "execute_result"
    }
   ],
   "source": [
    "ElegibilityForMarriage.Eligibility()"
   ]
  },
  {
   "cell_type": "code",
   "execution_count": 9,
   "id": "698f8058",
   "metadata": {},
   "outputs": [],
   "source": [
    "from test4 import FindPercent"
   ]
  },
  {
   "cell_type": "code",
   "execution_count": 10,
   "id": "a7eee354",
   "metadata": {},
   "outputs": [
    {
     "name": "stdout",
     "output_type": "stream",
     "text": [
      "Subject1 =98\n",
      "Subject2 =87\n",
      "Subject3 =95\n",
      "Subject4 =95\n",
      "Subject5 =93\n",
      "total: 468\n",
      "percentage :  93.60000000000001\n"
     ]
    },
    {
     "data": {
      "text/plain": [
       "('percentage : ', 93.60000000000001)"
      ]
     },
     "execution_count": 10,
     "metadata": {},
     "output_type": "execute_result"
    }
   ],
   "source": [
    "FindPercent.Percentage()"
   ]
  },
  {
   "cell_type": "code",
   "execution_count": 11,
   "id": "d960a5ce",
   "metadata": {},
   "outputs": [],
   "source": [
    "from test5 import triangle"
   ]
  },
  {
   "cell_type": "code",
   "execution_count": null,
   "id": "86a11617",
   "metadata": {},
   "outputs": [],
   "source": [
    "triangle.triangle()"
   ]
  },
  {
   "cell_type": "code",
   "execution_count": null,
   "id": "cde9f32a",
   "metadata": {},
   "outputs": [],
   "source": []
  }
 ],
 "metadata": {
  "kernelspec": {
   "display_name": "Python 3 (ipykernel)",
   "language": "python",
   "name": "python3"
  },
  "language_info": {
   "codemirror_mode": {
    "name": "ipython",
    "version": 3
   },
   "file_extension": ".py",
   "mimetype": "text/x-python",
   "name": "python",
   "nbconvert_exporter": "python",
   "pygments_lexer": "ipython3",
   "version": "3.11.5"
  }
 },
 "nbformat": 4,
 "nbformat_minor": 5
}
