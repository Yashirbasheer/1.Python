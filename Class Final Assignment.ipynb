{
 "cells": [
  {
   "cell_type": "code",
   "execution_count": 2,
   "id": "efa023cf",
   "metadata": {},
   "outputs": [],
   "source": [
    "from test1 import SubfieldsInAI"
   ]
  },
  {
   "cell_type": "code",
   "execution_count": 4,
   "id": "aaa6ab3b",
   "metadata": {},
   "outputs": [
    {
     "name": "stdout",
     "output_type": "stream",
     "text": [
      "Sub-fields in AI are :\n",
      "Machine Learning\n",
      "Neural Network\n",
      "Vision\n",
      "Robotics\n",
      "Speech Processing\n",
      "Natural Language Processing\n"
     ]
    },
    {
     "data": {
      "text/plain": [
       "'Natural Language Processing'"
      ]
     },
     "execution_count": 4,
     "metadata": {},
     "output_type": "execute_result"
    }
   ],
   "source": [
    "SubfieldsInAI.Subfields()"
   ]
  },
  {
   "cell_type": "code",
   "execution_count": 5,
   "id": "b4c6a808",
   "metadata": {},
   "outputs": [],
   "source": [
    "from test2 import OddEven"
   ]
  },
  {
   "cell_type": "code",
   "execution_count": 6,
   "id": "b733f328",
   "metadata": {},
   "outputs": [
    {
     "name": "stdout",
     "output_type": "stream",
     "text": [
      "enter the number :21\n",
      "21 is odd\n"
     ]
    },
    {
     "data": {
      "text/plain": [
       "'is odd'"
      ]
     },
     "execution_count": 6,
     "metadata": {},
     "output_type": "execute_result"
    }
   ],
   "source": [
    "OddEven.OddEven()"
   ]
  },
  {
   "cell_type": "code",
   "execution_count": 7,
   "id": "caa124ae",
   "metadata": {},
   "outputs": [],
   "source": [
    "from test3 import ElegibilityForMarriage"
   ]
  },
  {
   "cell_type": "code",
   "execution_count": 8,
   "id": "f201aab5",
   "metadata": {},
   "outputs": [
    {
     "name": "stdout",
     "output_type": "stream",
     "text": [
      "Enter your Gender :Male\n",
      "Enter Your Age :20\n",
      "Not Eligible\n"
     ]
    },
    {
     "data": {
      "text/plain": [
       "'Not Eligible'"
      ]
     },
     "execution_count": 8,
     "metadata": {},
     "output_type": "execute_result"
    }
   ],
   "source": [
    "ElegibilityForMarriage.Eligibility()"
   ]
  },
  {
   "cell_type": "code",
   "execution_count": 9,
   "id": "01151a92",
   "metadata": {},
   "outputs": [],
   "source": [
    "from test4 import FindPercent"
   ]
  },
  {
   "cell_type": "code",
   "execution_count": 10,
   "id": "22aad41e",
   "metadata": {},
   "outputs": [
    {
     "name": "stdout",
     "output_type": "stream",
     "text": [
      "Subject1 =98\n",
      "Subject2 =87\n",
      "Subject3 =95\n",
      "Subject4 =95\n",
      "Subject5 =93\n",
      "total: 468\n",
      "percentage :  93.60000000000001\n"
     ]
    },
    {
     "data": {
      "text/plain": [
       "('percentage : ', 93.60000000000001)"
      ]
     },
     "execution_count": 10,
     "metadata": {},
     "output_type": "execute_result"
    }
   ],
   "source": [
    "FindPercent.Percentage()"
   ]
  },
  {
   "cell_type": "code",
   "execution_count": 11,
   "id": "bb35d5a1",
   "metadata": {},
   "outputs": [],
   "source": [
    "from test5 import triangle"
   ]
  },
  {
   "cell_type": "code",
   "execution_count": 12,
   "id": "d9a09458",
   "metadata": {},
   "outputs": [
    {
     "name": "stdout",
     "output_type": "stream",
     "text": [
      "Height :32\n",
      "Breadth :34\n",
      "Area of Triangle: 544.0\n",
      "Height1 :2\n",
      "Height2 :4\n",
      "Breadth1 :4\n",
      "Perimeter of Triangle:  10\n"
     ]
    },
    {
     "data": {
      "text/plain": [
       "('Perimeter of Triangle: ', 10)"
      ]
     },
     "execution_count": 12,
     "metadata": {},
     "output_type": "execute_result"
    }
   ],
   "source": [
    "triangle.triangle()"
   ]
  },
  {
   "cell_type": "code",
   "execution_count": null,
   "id": "5c3c7f23",
   "metadata": {},
   "outputs": [],
   "source": []
  }
 ],
 "metadata": {
  "kernelspec": {
   "display_name": "Python 3 (ipykernel)",
   "language": "python",
   "name": "python3"
  },
  "language_info": {
   "codemirror_mode": {
    "name": "ipython",
    "version": 3
   },
   "file_extension": ".py",
   "mimetype": "text/x-python",
   "name": "python",
   "nbconvert_exporter": "python",
   "pygments_lexer": "ipython3",
   "version": "3.11.5"
  }
 },
 "nbformat": 4,
 "nbformat_minor": 5
}
