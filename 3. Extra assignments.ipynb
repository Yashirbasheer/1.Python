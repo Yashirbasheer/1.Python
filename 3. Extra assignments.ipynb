{
 "cells": [
  {
   "cell_type": "code",
   "execution_count": 2,
   "id": "7c1a9618",
   "metadata": {},
   "outputs": [
    {
     "name": "stdout",
     "output_type": "stream",
     "text": [
      "value :10\n",
      "correct\n"
     ]
    }
   ],
   "source": [
    "num=int(input(\"value :\"))\n",
    "if(num==10):\n",
    "    print(\"correct\")\n",
    "else:\n",
    "    print(\"wrong\")"
   ]
  },
  {
   "cell_type": "code",
   "execution_count": 25,
   "id": "60493a80",
   "metadata": {},
   "outputs": [
    {
     "name": "stdout",
     "output_type": "stream",
     "text": [
      "Enter the password :Hope@123\n",
      "Your Password is correct\n"
     ]
    }
   ],
   "source": [
    "Name=input(\"Enter the password :\")\n",
    "Name='Hope@123'\n",
    "if(Name=='Hope@123'):\n",
    "    print(\"Your Password is correct\")\n",
    "else:\n",
    "    print(\"Your password is wrong\")\n",
    "\n"
   ]
  },
  {
   "cell_type": "code",
   "execution_count": 27,
   "id": "8bd519fc",
   "metadata": {},
   "outputs": [
    {
     "name": "stdout",
     "output_type": "stream",
     "text": [
      "Age :20\n",
      "adult\n"
     ]
    }
   ],
   "source": [
    "age=int(input(\"Age :\"))\n",
    "if(age<18):\n",
    "    print(\"children\")\n",
    "elif(age<30):\n",
    "    print(\"adult\")\n",
    "elif(age<45):\n",
    "    print(\"citizen\")\n",
    "else:\n",
    "    print(\"senior citizen\")"
   ]
  },
  {
   "cell_type": "code",
   "execution_count": 30,
   "id": "48233e66",
   "metadata": {},
   "outputs": [
    {
     "name": "stdout",
     "output_type": "stream",
     "text": [
      "Enter any number : 1\n",
      "No is Positive\n"
     ]
    }
   ],
   "source": [
    "num=int(input(\"Enter any number : \"))\n",
    "if(num<18):\n",
    "    print(\"No is Positive\")\n",
    "else:\n",
    "    print(\"No is negative\")"
   ]
  },
  {
   "cell_type": "code",
   "execution_count": 52,
   "id": "afdce191",
   "metadata": {},
   "outputs": [
    {
     "name": "stdout",
     "output_type": "stream",
     "text": [
      "Enter a num to check : 22\n",
      "No is not div by 5\n"
     ]
    }
   ],
   "source": [
    "num=int(input(\"Enter a num to check : \"))\n",
    "if (num%5)==0:\n",
    "    print(\"No is Div by 5\")\n",
    "else:\n",
    "    print(\"No is not div by 5\")"
   ]
  },
  {
   "cell_type": "code",
   "execution_count": null,
   "id": "d86a5e37",
   "metadata": {},
   "outputs": [],
   "source": []
  },
  {
   "cell_type": "code",
   "execution_count": null,
   "id": "485b2bd1",
   "metadata": {},
   "outputs": [],
   "source": []
  }
 ],
 "metadata": {
  "kernelspec": {
   "display_name": "Python 3 (ipykernel)",
   "language": "python",
   "name": "python3"
  },
  "language_info": {
   "codemirror_mode": {
    "name": "ipython",
    "version": 3
   },
   "file_extension": ".py",
   "mimetype": "text/x-python",
   "name": "python",
   "nbconvert_exporter": "python",
   "pygments_lexer": "ipython3",
   "version": "3.11.5"
  }
 },
 "nbformat": 4,
 "nbformat_minor": 5
}
